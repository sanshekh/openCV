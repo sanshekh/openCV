{
 "cells": [
  {
   "cell_type": "code",
   "execution_count": 1,
   "id": "eb3bfa7f",
   "metadata": {},
   "outputs": [],
   "source": [
    "import cv2"
   ]
  },
  {
   "cell_type": "markdown",
   "id": "e03d04dc",
   "metadata": {},
   "source": [
    "### Face Detection"
   ]
  },
  {
   "cell_type": "code",
   "execution_count": 2,
   "id": "61f1ac64",
   "metadata": {},
   "outputs": [],
   "source": [
    "## Load trained cascade classifier\n",
    "face_casc = cv2.CascadeClassifier('cascade_classifier/haarcascade_frontalface_default.xml')\n",
    "\n",
    "## Read the given image\n",
    "color_image = cv2.imread('img/Sharvari-Wagh-gray.png')\n",
    "\n",
    "## Convert color image to grayscale\n",
    "gray_image = cv2.cvtColor(color_image, cv2.COLOR_BGR2GRAY)\n",
    "\n",
    "## ROI of face\n",
    "faces = face_casc.detectMultiScale(gray_image, 1.1, 7)\n",
    "\n",
    "## Draw rectangle around the face\n",
    "for (x, y, w, h) in faces:\n",
    "    cv2.rectangle(color_image, (x,y), (x+w, y+h), (0, 255, 0), 4)\n",
    "    \n",
    "## Show Image\n",
    "cv2.imshow('Image', color_image)\n",
    "\n",
    "## Wait to close window\n",
    "cv2.waitKey()\n",
    "\n",
    "## Destroy All windows:\n",
    "cv2.destroyAllWindows()"
   ]
  },
  {
   "cell_type": "markdown",
   "id": "e27cca33",
   "metadata": {},
   "source": [
    "### Live Face Detection"
   ]
  },
  {
   "cell_type": "code",
   "execution_count": 3,
   "id": "c2046790",
   "metadata": {},
   "outputs": [],
   "source": [
    "## Load the cascade classifier\n",
    "face_cascade = cv2.CascadeClassifier('cascade_classifier/haarcascade_frontalface_default.xml')\n",
    "\n",
    "## Start the web cam\n",
    "cap = cv2.VideoCapture(0) ## cap = cv2.VideoCapture('video path for face det in videos')\n",
    "\n",
    "while True:\n",
    "    \n",
    "    ##Read image from webcam\n",
    "    response, color_img = cap.read()\n",
    "    \n",
    "    ## Convert to grayscale\n",
    "    gray_image = cv2.cvtColor(color_img, cv2.COLOR_BGR2GRAY)\n",
    "    \n",
    "    ## Detect the faces\n",
    "    faces = face_cascade.detectMultiScale(gray_image, 1.1, 2)\n",
    "    \n",
    "    ## Display rectangle\n",
    "    for (x, y, w, h) in faces:\n",
    "        cv2.rectangle(color_img, (x,y), (x+w, y+h), (0, 255, 0), 3)\n",
    "        \n",
    "    ## Display image:\n",
    "    cv2.imshow('img', color_img)\n",
    "    \n",
    "    if cv2.waitKey(1) & 0xFF == ord('q'):\n",
    "        break\n",
    "        \n",
    "\n",
    "## Release the video capture object\n",
    "cap.release()\n",
    "cv2.destroyAllWindows()"
   ]
  },
  {
   "cell_type": "markdown",
   "id": "4d416e2c",
   "metadata": {},
   "source": [
    "### Eye Detection"
   ]
  },
  {
   "cell_type": "code",
   "execution_count": 4,
   "id": "0c95faf7",
   "metadata": {},
   "outputs": [],
   "source": [
    "eye_cascade = cv2.CascadeClassifier('cascade_classifier/haarcascade_eye.xml')\n",
    "\n",
    "cap = cv2.VideoCapture(0)\n",
    "while True:\n",
    "    \n",
    "    response, frame = cap.read()\n",
    "    \n",
    "    if response == 0:\n",
    "        print('Camera/Vid not working')\n",
    "        break\n",
    "    \n",
    "    gray_image = cv2.cvtColor(frame, cv2.COLOR_BGR2GRAY)\n",
    "    \n",
    "    ## Detext eye\n",
    "    eyes = eye_cascade.detectMultiScale(gray_image, 1.1, 1)\n",
    "    \n",
    "    ## Display rectangle\n",
    "    for (x,y, w,h)in eyes:\n",
    "        cv2.rectangle(frame, (x,y), (x+w, y+h), (0,255,0), 3)\n",
    "        \n",
    "    ## Display image\n",
    "    cv2.imshow('eyes', frame)\n",
    "    \n",
    "    if cv2.waitKey(1) & 0xFF == ord('q'):\n",
    "        break\n",
    "        \n",
    "\n",
    "### Release the video capture object\n",
    "cap.release()\n",
    "cv2.destroyAllWindows()"
   ]
  },
  {
   "cell_type": "markdown",
   "id": "23b658b2",
   "metadata": {},
   "source": [
    "### Body_detection"
   ]
  },
  {
   "cell_type": "code",
   "execution_count": 9,
   "id": "4655312e",
   "metadata": {},
   "outputs": [],
   "source": [
    "full_cascade = cv2.CascadeClassifier('cascade_classifier/haarcascade_fullbody.xml')\n",
    "\n",
    "cap = cv2.VideoCapture('videos/people.mp4')\n",
    "\n",
    "while True:\n",
    "    \n",
    "    response, frame = cap.read()\n",
    "    \n",
    "    if response == False:\n",
    "#         print('Camera/Vid not working')\n",
    "        break\n",
    "    \n",
    "    gray_image = cv2.cvtColor(frame, cv2.COLOR_BGR2GRAY)\n",
    "    \n",
    "    ## Detext eye\n",
    "    body = full_cascade.detectMultiScale(gray_image, 1.1, 3)\n",
    "    \n",
    "    ## Display rectangle\n",
    "    for (x,y, w,h)in body:\n",
    "        cv2.rectangle(frame, (x,y), (x+w, y+h), (0,255,0), 3)\n",
    "        \n",
    "    ## Display image\n",
    "    cv2.imshow('body', frame)\n",
    "    \n",
    "    if cv2.waitKey(1) & 0xFF == ord('q'):\n",
    "        break\n",
    "        \n",
    "\n",
    "### Release the video capture object\n",
    "cap.release()\n",
    "cv2.destroyAllWindows()"
   ]
  },
  {
   "cell_type": "code",
   "execution_count": null,
   "id": "5bafd23a",
   "metadata": {},
   "outputs": [],
   "source": []
  },
  {
   "cell_type": "code",
   "execution_count": null,
   "id": "71c13abd",
   "metadata": {},
   "outputs": [],
   "source": []
  },
  {
   "cell_type": "code",
   "execution_count": null,
   "id": "6deb90d1",
   "metadata": {},
   "outputs": [],
   "source": []
  },
  {
   "cell_type": "code",
   "execution_count": null,
   "id": "343c67e6",
   "metadata": {},
   "outputs": [],
   "source": []
  }
 ],
 "metadata": {
  "kernelspec": {
   "display_name": "Python 3 (ipykernel)",
   "language": "python",
   "name": "python3"
  },
  "language_info": {
   "codemirror_mode": {
    "name": "ipython",
    "version": 3
   },
   "file_extension": ".py",
   "mimetype": "text/x-python",
   "name": "python",
   "nbconvert_exporter": "python",
   "pygments_lexer": "ipython3",
   "version": "3.7.11"
  }
 },
 "nbformat": 4,
 "nbformat_minor": 5
}
