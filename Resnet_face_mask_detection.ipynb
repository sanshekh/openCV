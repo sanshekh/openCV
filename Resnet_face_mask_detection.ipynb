{
 "cells": [
  {
   "cell_type": "code",
   "execution_count": 1,
   "id": "eabc9a00",
   "metadata": {},
   "outputs": [],
   "source": [
    "# # !pip install opencv-python\n",
    "# # !pip uninstall h5py\n",
    "#!pip install h5py==2.10.0 \n",
    "# # After installing h5py v2.10.0 restart the kernel\n",
    "# # h5dict, custom_objects, compile"
   ]
  },
  {
   "cell_type": "code",
   "execution_count": 2,
   "id": "01ebb294",
   "metadata": {},
   "outputs": [],
   "source": [
    "# !pip install pillow -U\n",
    "# !pip install pathlib -U"
   ]
  },
  {
   "cell_type": "code",
   "execution_count": 3,
   "id": "1adcb9ad",
   "metadata": {},
   "outputs": [
    {
     "name": "stdout",
     "output_type": "stream",
     "text": [
      "2.10.0\n"
     ]
    }
   ],
   "source": [
    "import h5py\n",
    "print(h5py.__version__)"
   ]
  },
  {
   "cell_type": "code",
   "execution_count": 4,
   "id": "a7c809e7",
   "metadata": {},
   "outputs": [],
   "source": [
    "import sys\n",
    "from PIL import Image"
   ]
  },
  {
   "cell_type": "code",
   "execution_count": 5,
   "id": "d08a9b3b",
   "metadata": {},
   "outputs": [
    {
     "name": "stderr",
     "output_type": "stream",
     "text": [
      "Using TensorFlow backend.\n"
     ]
    }
   ],
   "source": [
    "## Import Packages\n",
    "import cv2\n",
    "import os\n",
    "# from keras.models import load_model\n",
    "from keras.preprocessing.image import load_img, img_to_array\n",
    "from tensorflow.keras.preprocessing.image import img_to_array\n",
    "from tensorflow.keras.models import load_model\n",
    "import numpy as np"
   ]
  },
  {
   "cell_type": "code",
   "execution_count": 6,
   "id": "04efb6cf",
   "metadata": {},
   "outputs": [],
   "source": [
    "## Load the pre-trained CNN model\n",
    "model = load_model('models/resnet152v2.h5') \n",
    "\n",
    "# model accepts height and width of the image as spec below:\n",
    "img_width, img_height = 224, 224\n",
    "\n",
    "## Load the Cascade face Classifier\n",
    "face_cascade = cv2.CascadeClassifier('cascade_classifier/haarcascade_frontalface_default.xml')"
   ]
  },
  {
   "cell_type": "code",
   "execution_count": 7,
   "id": "7cb27e21",
   "metadata": {},
   "outputs": [],
   "source": [
    "## Text font parameters\n",
    "font = cv2.FONT_HERSHEY_SIMPLEX\n",
    "org = (1, 1)\n",
    "class_label = ' '\n",
    "fontScale = 1\n",
    "color = (255, 0 ,0) ## Blue col in BGR\n",
    "thickness = 1  ## Line thickness of 1 px"
   ]
  },
  {
   "cell_type": "code",
   "execution_count": 8,
   "id": "665c3487",
   "metadata": {},
   "outputs": [],
   "source": [
    "## Read image from webcam\n",
    "color_img = cv2.imread('face_mask_dataset/Test/WithoutMask/2044.png')\n",
    "# 'Face-Mask-Detection-master/dataset/with_mask/0_0_0 copy 12.jpg'\n",
    "# Convert to grayscale\n",
    "gray_img = cv2.cvtColor(color_img, cv2.COLOR_BGR2GRAY)\n",
    "\n",
    "# detect the face\n",
    "faces = face_cascade.detectMultiScale(gray_img, 1.5, 3)"
   ]
  },
  {
   "cell_type": "code",
   "execution_count": 9,
   "id": "9fbf324b",
   "metadata": {},
   "outputs": [],
   "source": [
    "#take face then predict class mask or not mask then draw recrangle and text then display image\n",
    "\n",
    "img_count = 0\n",
    "for (x, y, w, h) in faces:\n",
    "    org = (x-10, y-10)\n",
    "    img_count += 1\n",
    "    color_face = color_img[y:y+h, x:x+w] ## color face\n",
    "    cv2.imwrite('face_mask_dataset/input/%dface.jpg'%(img_count), color_face)\n",
    "    img = load_img('face_mask_dataset/input/%dface.jpg'%(img_count), target_size=(img_width, img_height))\n",
    "    \n",
    "    img = img_to_array(img)/255\n",
    "    img = np.expand_dims(img, axis=0)\n",
    "    pred_prob = model.predict(img)\n",
    "    #print(pred_prob[0][0].round(2))\n",
    "    pred=np.argmax(pred_prob)\n",
    "    \n",
    "    if pred == 0:\n",
    "        print(\"User with mask - predict = \", pred_prob[0][0])\n",
    "        class_label = \"Mask\"\n",
    "        color = (255, 0, 0)\n",
    "        cv2.imwrite('face_mask_dataset/with_masks/%dface.jpg'%(img_count), color_face)\n",
    "        cv2.rectangle(color_img, (x,y), (x+w, y+h), (0, 0, 255), 3)\n",
    "        cv2.putText(color_img, class_label, org, font, \n",
    "                    fontScale, color, thickness, cv2.LINE_AA)\n",
    "        cv2.imwrite('face_mask_dataset/with_masks/%dmask.jpg'%(img_count), color_img)\n",
    "    \n",
    "    else:\n",
    "        print(\"User not wearing mask - prob = \", pred_prob[0][1])\n",
    "        class_label = \"No Mask\"\n",
    "        color = (255, 0, 0)\n",
    "        cv2.imwrite('face_mask_dataset/without_masks/%dface.jpg'%(img_count), color_face)\n",
    "        cv2.rectangle(color_img, (x,y), (x+w, y+h), (0, 0, 255), 3)\n",
    "        cv2.putText(color_img, class_label, org, font,\n",
    "                        fontScale, color, thickness, cv2.LINE_AA)\n",
    "        cv2.imwrite('face_mask_dataset/without_masks/%dnomask.jpg'%(img_count), color_img)"
   ]
  },
  {
   "cell_type": "code",
   "execution_count": null,
   "id": "0f239516",
   "metadata": {},
   "outputs": [],
   "source": []
  },
  {
   "cell_type": "code",
   "execution_count": null,
   "id": "b120e174",
   "metadata": {},
   "outputs": [],
   "source": []
  },
  {
   "cell_type": "code",
   "execution_count": null,
   "id": "c3891eed",
   "metadata": {},
   "outputs": [],
   "source": []
  },
  {
   "cell_type": "code",
   "execution_count": null,
   "id": "7bca40d1",
   "metadata": {},
   "outputs": [],
   "source": []
  },
  {
   "cell_type": "code",
   "execution_count": null,
   "id": "68f61af9",
   "metadata": {},
   "outputs": [],
   "source": []
  },
  {
   "cell_type": "code",
   "execution_count": null,
   "id": "29d0e2f3",
   "metadata": {},
   "outputs": [],
   "source": []
  },
  {
   "cell_type": "code",
   "execution_count": null,
   "id": "f75056c7",
   "metadata": {},
   "outputs": [],
   "source": []
  },
  {
   "cell_type": "code",
   "execution_count": null,
   "id": "a575b743",
   "metadata": {},
   "outputs": [],
   "source": []
  },
  {
   "cell_type": "code",
   "execution_count": null,
   "id": "98c8271f",
   "metadata": {},
   "outputs": [],
   "source": []
  },
  {
   "cell_type": "code",
   "execution_count": null,
   "id": "a4040a58",
   "metadata": {},
   "outputs": [],
   "source": []
  },
  {
   "cell_type": "code",
   "execution_count": null,
   "id": "12077683",
   "metadata": {},
   "outputs": [],
   "source": []
  },
  {
   "cell_type": "code",
   "execution_count": null,
   "id": "0e2d4b7d",
   "metadata": {},
   "outputs": [],
   "source": []
  },
  {
   "cell_type": "code",
   "execution_count": null,
   "id": "9f556ad9",
   "metadata": {},
   "outputs": [],
   "source": []
  },
  {
   "cell_type": "code",
   "execution_count": null,
   "id": "1abf357b",
   "metadata": {},
   "outputs": [],
   "source": []
  }
 ],
 "metadata": {
  "kernelspec": {
   "display_name": "Python 3 (ipykernel)",
   "language": "python",
   "name": "python3"
  },
  "language_info": {
   "codemirror_mode": {
    "name": "ipython",
    "version": 3
   },
   "file_extension": ".py",
   "mimetype": "text/x-python",
   "name": "python",
   "nbconvert_exporter": "python",
   "pygments_lexer": "ipython3",
   "version": "3.7.11"
  }
 },
 "nbformat": 4,
 "nbformat_minor": 5
}
